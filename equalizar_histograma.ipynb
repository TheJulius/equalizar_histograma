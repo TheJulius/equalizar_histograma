{
  "nbformat": 4,
  "nbformat_minor": 0,
  "metadata": {
    "colab": {
      "provenance": []
    },
    "kernelspec": {
      "name": "python3",
      "display_name": "Python 3"
    },
    "language_info": {
      "name": "python"
    }
  },
  "cells": [
    {
      "cell_type": "code",
      "source": [
        "import numpy as np\n",
        "from PIL import Image\n",
        "\n",
        "\n",
        "class EqualizarHistograma:\n",
        "\n",
        "\n",
        "  def __init__(self, path):\n",
        "    self.path = path\n",
        "\n",
        "\n",
        "  def _equalizar(self, index):\n",
        "\n",
        "    if index == 0:\n",
        "      return self.qtd_cores * (self.contador[index] / self.tamanho_imagem)\n",
        "    \n",
        "    else:\n",
        "      return self.qtd_cores * (self.contador[index] / self.tamanho_imagem) + self._equalizar(index-1)\n",
        "\n",
        "  def equalizar_hist(self, name):\n",
        "\n",
        "    self.tamanho_imagem = self.image.shape[0] * self.image.shape[1]\n",
        "    self.qtd_cores = 255\n",
        "\n",
        "    unique, counts = self._pegar_frequencia()\n",
        "    self.contador = self._gerar(counts)\n",
        "\n",
        "    array_valores_equalizados = {}\n",
        "    \n",
        "    for i in range(len(self.contador)):\n",
        "      array_valores_equalizados[unique[i]] = round(self._equalizar(i))\n",
        "    \n",
        "    self.array_valores_equalizados = array_valores_equalizados\n",
        "\n",
        "    valores = [j for i in teste.image.reshape(250000, 1).tolist() for j in i]\n",
        "    valores_normalizados = np.array([array_valores_equalizados[value] for value in valores], dtype='uint8')\n",
        "    \n",
        "    self.img_normalizada = valores_normalizados.reshape(self.image.shape[0], self.image.shape[1])\n",
        "    self.salvar_imagem(name+'_normalizado_', self.img_normalizada)\n",
        "\n",
        "  def _gerar(self, values):\n",
        "\n",
        "    array = {}\n",
        "\n",
        "    for i, value in enumerate(values):\n",
        "      array[i] = value\n",
        "\n",
        "    return array\n",
        "\n",
        "  def _pegar_frequencia(self):\n",
        "\n",
        "    unique, counts = np.unique(self.image, return_counts=True)\n",
        "\n",
        "    return unique, counts\n",
        "\n",
        "  def ler_imagem(self):\n",
        "\n",
        "    im = Image.open(self.path)\n",
        "    self.image = np.array(im)\n",
        "\n",
        "\n",
        "  def salvar_imagem(self, nome_arquivo, imagem):\n",
        "\n",
        "    imagem = Image.fromarray(imagem)\n",
        "    imagem.save('{}.jpeg'.format(nome_arquivo))\n",
        "\n"
      ],
      "metadata": {
        "id": "73FvYkD48bTB"
      },
      "execution_count": 11,
      "outputs": []
    },
    {
      "cell_type": "code",
      "source": [
        "teste = EqualizarHistograma('Fig0316(1)(top_left).tif')\n",
        "teste.ler_imagem()\n",
        "teste.equalizar_hist('top_left')"
      ],
      "metadata": {
        "id": "CD_gJ00YLMtP"
      },
      "execution_count": 12,
      "outputs": []
    },
    {
      "cell_type": "code",
      "source": [
        "teste = EqualizarHistograma('Fig0316(2)(2nd_from_top).tif')\n",
        "teste.ler_imagem()\n",
        "teste.equalizar_hist('2nd_from_top')"
      ],
      "metadata": {
        "id": "u2vDMz3i_tyu"
      },
      "execution_count": 13,
      "outputs": []
    },
    {
      "cell_type": "code",
      "source": [
        "teste = EqualizarHistograma('Fig0316(3)(third_from_top).tif')\n",
        "teste.ler_imagem()\n",
        "teste.equalizar_hist('third_from_top')"
      ],
      "metadata": {
        "id": "xC5vcSv6_uUa"
      },
      "execution_count": 14,
      "outputs": []
    },
    {
      "cell_type": "code",
      "source": [
        "teste = EqualizarHistograma('Fig0316(4)(bottom_left).tif')\n",
        "teste.ler_imagem()\n",
        "teste.equalizar_hist('bottom_left')"
      ],
      "metadata": {
        "id": "Ux77ph03_vAq"
      },
      "execution_count": 15,
      "outputs": []
    }
  ]
}